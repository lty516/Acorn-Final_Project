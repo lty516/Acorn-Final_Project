{
 "cells": [
  {
   "cell_type": "code",
   "execution_count": null,
   "metadata": {},
   "outputs": [],
   "source": [
    "import numpy as np\n",
    "import pandas as pd\n",
    "import matplotlib.pyplot as plt\n",
    "\n",
    "import plotly.express as px\n",
    "import matplotlib.font_manager as fm\n",
    "font_name = fm.FontProperties(fname=\"C:\\Windows\\\\Fonts\\\\malgun.ttf\").get_name()\n",
    "plt.rc('font', family=font_name)\n",
    "\n",
    "import folium\n",
    "import json\n",
    "\n",
    "# 관악구/강남구 동명 '신사동' -> 신사동(관) / 신사동(강)\n",
    "geo_str = json.load(open('./데이터수집/skorea_submunicipalities_geo_simple.json', encoding='utf-8'))"
   ]
  },
  {
   "cell_type": "code",
   "execution_count": null,
   "metadata": {},
   "outputs": [],
   "source": [
    "# JSON 행정동 수\n",
    "# len(pd.DataFrame(list(pd.DataFrame(geo_str['features'])['properties']))['name'].unique())"
   ]
  },
  {
   "cell_type": "code",
   "execution_count": null,
   "metadata": {},
   "outputs": [],
   "source": [
    "df_total = pd.read_csv(\"./전처리데이터/상권-추정매출_전처리.csv\", index_col=0)\n",
    "df_total"
   ]
  },
  {
   "cell_type": "code",
   "execution_count": null,
   "metadata": {},
   "outputs": [],
   "source": [
    "# JSON과 읍면동명 일치하게 수정\n",
    "# '사당제1동' -> '사당1동'\n",
    "# 관악구/강남구 동명 '신사동' -> 신사동(관) / 신사동(강)\n",
    "\n",
    "for n in range(0,9):\n",
    "    df_total[\"읍면동명\"] = df_total[\"읍면동명\"].str.replace(pat=r'제'+str(n), repl=str(n), regex=True)\n",
    "df_total[\"읍면동명\"] = df_total[\"읍면동명\"].str.replace(pat='.', repl='·', regex=True)\n",
    "\n",
    "df_total.at[(df_total[\"시군구명\"]==\"관악구\")&(df_total[\"읍면동명\"]==\"신사동\"), \"읍면동명\"] = \"신사동(관)\"\n",
    "df_total.at[(df_total[\"시군구명\"]==\"강남구\")&(df_total[\"읍면동명\"]==\"신사동\"), \"읍면동명\"] = \"신사동(강)\""
   ]
  },
  {
   "cell_type": "code",
   "execution_count": null,
   "metadata": {},
   "outputs": [],
   "source": [
    "# 2019년 이전과 이후 '서비스_업종_코드_명'이 상이하여 통일\n",
    "\n",
    "df_total.loc[df_total['서비스_업종_코드_명']=='호프-간이주점', '서비스_업종_코드_명'] = '호프·간이주점'\n",
    "df_total.loc[df_total['서비스_업종_코드_명']=='커피-음료', '서비스_업종_코드_명'] = '커피·음료'\n",
    "\n",
    "df_total.loc[df_total['서비스_업종_코드_명']=='가구', '서비스_업종_코드_명'] = '가구·가전'\n",
    "df_total.loc[df_total['서비스_업종_코드_명']=='가전제품', '서비스_업종_코드_명'] = '가구·가전'\n",
    "\n",
    "df_total.loc[df_total['서비스_업종_코드_명']=='화초', '서비스_업종_코드_명'] = '화초·애완'\n",
    "df_total.loc[df_total['서비스_업종_코드_명']=='애완동물', '서비스_업종_코드_명'] = '화초·애완'\n",
    "df_total.loc[df_total['서비스_업종_코드_명']=='동물병원', '서비스_업종_코드_명'] = '화초·애완'\n",
    "\n",
    "df_total.loc[df_total['서비스_업종_코드_명']=='자동차수리', '서비스_업종_코드_명'] = '자동차수리·세차'\n",
    "df_total.loc[df_total['서비스_업종_코드_명']=='자동차미용', '서비스_업종_코드_명'] = '자동차수리·세차'\n",
    "\n",
    "df_total.loc[df_total['서비스_업종_코드_명']=='미곡판매', '서비스_업종_코드_명'] = '식료품'\n",
    "df_total.loc[df_total['서비스_업종_코드_명']=='주류도매', '서비스_업종_코드_명'] = '식료품'\n",
    "df_total.loc[df_total['서비스_업종_코드_명']=='육류판매', '서비스_업종_코드_명'] = '식료품'\n",
    "df_total.loc[df_total['서비스_업종_코드_명']=='반찬가게', '서비스_업종_코드_명'] = '식료품'\n",
    "df_total.loc[df_total['서비스_업종_코드_명']=='청과상', '서비스_업종_코드_명'] = '식료품'\n",
    "df_total.loc[df_total['서비스_업종_코드_명']=='수산물판매', '서비스_업종_코드_명'] = '식료품'\n",
    "df_total.loc[df_total['서비스_업종_코드_명']=='건강보조식품', '서비스_업종_코드_명'] = '식료품'\n",
    "\n",
    "df_total.loc[df_total['서비스_업종_코드_명']=='골프연습장', '서비스_업종_코드_명'] = '오락·운동'\n",
    "df_total.loc[df_total['서비스_업종_코드_명']=='볼링장', '서비스_업종_코드_명'] = '오락·운동'\n",
    "df_total.loc[df_total['서비스_업종_코드_명']=='운동/경기용품', '서비스_업종_코드_명'] = '오락·운동'\n",
    "\n",
    "df_total.loc[df_total['서비스_업종_코드_명']=='예술학원', '서비스_업종_코드_명'] = '예체능학원'\n",
    "df_total.loc[df_total['서비스_업종_코드_명']=='스포츠 강습', '서비스_업종_코드_명'] = '예체능학원'\n",
    "df_total.loc[df_total['서비스_업종_코드_명']=='컴퓨터학원', '서비스_업종_코드_명'] = '예체능학원'\n",
    "\n",
    "df_total.loc[df_total['서비스_업종_코드_명']=='서적', '서비스_업종_코드_명'] = '서적·문구'\n",
    "df_total.loc[df_total['서비스_업종_코드_명']=='문구', '서비스_업종_코드_명'] = '서적·문구'\n",
    "df_total.loc[df_total['서비스_업종_코드_명']=='완구', '서비스_업종_코드_명'] = '서적·문구'\n",
    "\n",
    "df_total.loc[df_total['서비스_업종_코드_명']=='고시원', '서비스_업종_코드_명'] = '숙박업'\n",
    "df_total.loc[df_total['서비스_업종_코드_명']=='여관', '서비스_업종_코드_명'] = '숙박업'\n",
    "\n",
    "df_total.loc[df_total['서비스_업종_코드_명']=='의약품', '서비스_업종_코드_명'] = '의약·의료용품'\n",
    "df_total.loc[df_total['서비스_업종_코드_명']=='의료기기', '서비스_업종_코드_명'] = '의약·의료용품'\n",
    "df_total.loc[df_total['서비스_업종_코드_명']=='안경', '서비스_업종_코드_명'] = '의약·의료용품'\n",
    "\n",
    "df_total.loc[df_total['서비스_업종_코드_명']=='미용실', '서비스_업종_코드_명'] = '두발미용업'\n",
    "\n",
    "df_total.loc[df_total['서비스_업종_코드_명']=='컴퓨터및주변장치판매', '서비스_업종_코드_명'] = '컴퓨터·주변기기'\n",
    "\n",
    "df_total.loc[df_total['서비스_업종_코드_명']=='유아의류', '서비스_업종_코드_명'] = '의류점'\n",
    "df_total.loc[df_total['서비스_업종_코드_명']=='일반의류', '서비스_업종_코드_명'] = '의류점'\n",
    "df_total.loc[df_total['서비스_업종_코드_명']=='한복점', '서비스_업종_코드_명'] = '의류점'\n",
    "\n",
    "df_total.loc[df_total['서비스_업종_코드_명']=='전자상거래업', '서비스_업종_코드_명'] = '통신판매업'\n",
    "\n",
    "df_total.loc[df_total['서비스_업종_코드_명']=='시계및귀금속', '서비스_업종_코드_명'] = '패션용품'\n",
    "df_total.loc[df_total['서비스_업종_코드_명']=='가방', '서비스_업종_코드_명'] = '패션용품'\n",
    "df_total.loc[df_total['서비스_업종_코드_명']=='신발', '서비스_업종_코드_명'] = '패션용품'\n",
    "\n",
    "df_total.loc[df_total['서비스_업종_코드_명']=='세탁소', '서비스_업종_코드_명'] = '세탁소(가정)'\n",
    "\n",
    "# 통일 불가한 '서비스_업종_코드_명'은 삭제 (단축 분류하기 때문에 영향 적음 - 확인)\n",
    "\n",
    "df_total = df_total.drop(index=df_total[df_total[\"서비스_업종_코드_명\"]==\"주방·가정용품\"].index)\n",
    "df_total = df_total.drop(index=df_total[df_total[\"서비스_업종_코드_명\"]==\"철물점\"].index)\n",
    "df_total = df_total.drop(index=df_total[df_total[\"서비스_업종_코드_명\"]==\"변호사사무소\"].index)\n",
    "df_total = df_total.drop(index=df_total[df_total[\"서비스_업종_코드_명\"]==\"기타법무서비스\"].index)\n",
    "df_total = df_total.drop(index=df_total[df_total[\"서비스_업종_코드_명\"]==\"세무사사무소\"].index)\n",
    "df_total = df_total.drop(index=df_total[df_total[\"서비스_업종_코드_명\"]==\"변리사사무소\"].index)\n",
    "df_total = df_total.drop(index=df_total[df_total[\"서비스_업종_코드_명\"]==\"자전거 및 기타운송장비\"].index)\n",
    "df_total = df_total.drop(index=df_total[df_total[\"서비스_업종_코드_명\"]==\"조명용품\"].index)\n",
    "df_total = df_total.drop(index=df_total[df_total[\"서비스_업종_코드_명\"]==\"인테리어\"].index)\n",
    "df_total = df_total.drop(index=df_total[df_total[\"서비스_업종_코드_명\"]==\"법무사사무소\"].index)\n",
    "df_total = df_total.drop(index=df_total[df_total[\"서비스_업종_코드_명\"]==\"회계사사무소\"].index)"
   ]
  },
  {
   "cell_type": "code",
   "execution_count": null,
   "metadata": {},
   "outputs": [],
   "source": [
    "df_total[df_total[\"읍면동명\"]==\"신사동(관)\"][\"시군구명\"].unique()"
   ]
  },
  {
   "cell_type": "code",
   "execution_count": null,
   "metadata": {},
   "outputs": [],
   "source": [
    "print(len(df_total[\"서비스_업종_코드_명\"].unique()))\n",
    "print(df_total[\"서비스_업종_코드_명\"].unique())"
   ]
  },
  {
   "cell_type": "code",
   "execution_count": null,
   "metadata": {},
   "outputs": [],
   "source": [
    "shoplist = df_total[\"상권_구분_코드_명\"].unique()\n",
    "shoplist"
   ]
  },
  {
   "cell_type": "code",
   "execution_count": null,
   "metadata": {},
   "outputs": [],
   "source": [
    "df_total.groupby(\"상권_구분_코드_명\").sum()['연령대_60_이상_매출_건수']"
   ]
  },
  {
   "cell_type": "code",
   "execution_count": null,
   "metadata": {},
   "outputs": [],
   "source": [
    "df_total.groupby(\"상권_구분_코드_명\").mean()['연령대_60_이상_매출_건수']"
   ]
  },
  {
   "cell_type": "code",
   "execution_count": null,
   "metadata": {},
   "outputs": [],
   "source": [
    "df_total.groupby(\"상권_구분_코드_명\").mean()['연령대_60_이상_매출_비율']"
   ]
  },
  {
   "cell_type": "code",
   "execution_count": null,
   "metadata": {},
   "outputs": [],
   "source": [
    "from IPython.display import Image\n",
    "\n",
    "Image('상권.png')"
   ]
  },
  {
   "cell_type": "markdown",
   "metadata": {},
   "source": [
    "\n",
    "- 골목상권은 규모가 크나 각각 판매량은 저조하다\n",
    "- 발달상권은 이용 노인인구 비율은 적으나 그에 비해 판매량이 많다. (전체 판매량이 많다.)\n",
    "- 전통시장은 이용 노인인구 비율과 판매량은 가장 많지만 규모가 작다.\n"
   ]
  },
  {
   "cell_type": "markdown",
   "metadata": {},
   "source": [
    "## 동별 상권구분 수\n",
    "\n",
    "['전통시장', '발달상권', '골목상권']"
   ]
  },
  {
   "cell_type": "markdown",
   "metadata": {},
   "source": [
    "### 전체상권 분포"
   ]
  },
  {
   "cell_type": "code",
   "execution_count": null,
   "metadata": {
    "scrolled": false
   },
   "outputs": [],
   "source": [
    "df_count = df_total.groupby([\"시군구명\", \"읍면동명\", \"상권_코드_명\"]).count().reset_index(level=['상권_코드_명'])\n",
    "df_count = df_count.groupby([\"시군구명\", \"읍면동명\"]).count()\n",
    "df_count = pd.DataFrame(df_count.sort_values(\"기준_년_코드\", ascending=False)[\"기준_년_코드\"]).reset_index()\n",
    "df_count"
   ]
  },
  {
   "cell_type": "code",
   "execution_count": null,
   "metadata": {},
   "outputs": [],
   "source": [
    "map_parking = folium.Map(location=[37.5502, 126.982], zoom_start=10)\n",
    "map_parking.choropleth(geo_data = geo_str, \n",
    "               data=df_count,\n",
    "               columns=['읍면동명', '기준_년_코드'],\n",
    "               key_on='properties.name',\n",
    "               fill_color='YlGnBu', blank_color='Wh')\n",
    "map_parking"
   ]
  },
  {
   "cell_type": "markdown",
   "metadata": {},
   "source": [
    "### 골목상권 분포"
   ]
  },
  {
   "cell_type": "code",
   "execution_count": null,
   "metadata": {},
   "outputs": [],
   "source": [
    "df_count1 = df_total[df_total[\"상권_구분_코드_명\"]==\"골목상권\"].groupby([\"시군구명\", \"읍면동명\", \"상권_코드_명\"]).count().reset_index(level=['상권_코드_명'])\n",
    "df_count1 = df_count1.groupby([\"시군구명\", \"읍면동명\"]).count()\n",
    "df_count1 = pd.DataFrame(df_count1.sort_values(\"기준_년_코드\", ascending=False)[\"기준_년_코드\"]).reset_index(level=['읍면동명'])\n",
    "df_count1"
   ]
  },
  {
   "cell_type": "code",
   "execution_count": null,
   "metadata": {},
   "outputs": [],
   "source": [
    "map_parking = folium.Map(location=[37.5502, 126.982], zoom_start=10)\n",
    "map_parking.choropleth(geo_data = geo_str, \n",
    "               data=df_count1,\n",
    "               columns=['읍면동명', '기준_년_코드'],\n",
    "               key_on='properties.name',\n",
    "               fill_color='YlGnBu')\n",
    "map_parking"
   ]
  },
  {
   "cell_type": "markdown",
   "metadata": {},
   "source": [
    "### 발달상권 분포"
   ]
  },
  {
   "cell_type": "code",
   "execution_count": null,
   "metadata": {},
   "outputs": [],
   "source": [
    "df_count2 = df_total[df_total[\"상권_구분_코드_명\"]==\"발달상권\"].groupby([\"시군구명\", \"읍면동명\", \"상권_코드_명\"]).count().reset_index(level=['상권_코드_명'])\n",
    "df_count2 = df_count2.groupby([\"시군구명\", \"읍면동명\"]).count()\n",
    "df_count2 = pd.DataFrame(df_count2.sort_values(\"기준_년_코드\", ascending=False)[\"기준_년_코드\"]).reset_index(level=['읍면동명'])\n",
    "df_count2"
   ]
  },
  {
   "cell_type": "code",
   "execution_count": null,
   "metadata": {
    "scrolled": false
   },
   "outputs": [],
   "source": [
    "map_parking = folium.Map(location=[37.5502, 126.982], zoom_start=10)\n",
    "map_parking.choropleth(geo_data = geo_str, \n",
    "               data=df_count2,\n",
    "               columns=['읍면동명', '기준_년_코드'],\n",
    "               key_on='properties.name',\n",
    "               fill_color='YlGnBu')\n",
    "map_parking"
   ]
  },
  {
   "cell_type": "markdown",
   "metadata": {},
   "source": [
    "### 전통시장 분포"
   ]
  },
  {
   "cell_type": "code",
   "execution_count": null,
   "metadata": {},
   "outputs": [],
   "source": [
    "df_count3 = df_total[df_total[\"상권_구분_코드_명\"]==\"전통시장\"].groupby([\"시군구명\", \"읍면동명\", \"상권_코드_명\"]).count().reset_index(level=['상권_코드_명'])\n",
    "df_count3 = df_count3.groupby([\"시군구명\", \"읍면동명\"]).count()\n",
    "df_count3 = pd.DataFrame(df_count3.sort_values(\"기준_년_코드\", ascending=False)[\"기준_년_코드\"]).reset_index(level=['읍면동명'])\n",
    "df_count3"
   ]
  },
  {
   "cell_type": "code",
   "execution_count": null,
   "metadata": {},
   "outputs": [],
   "source": [
    "map_parking = folium.Map(location=[37.5502, 126.982], zoom_start=10)\n",
    "map_parking.choropleth(geo_data = geo_str, \n",
    "               data=df_count3,\n",
    "               columns=['읍면동명', '기준_년_코드'],\n",
    "               key_on='properties.name',\n",
    "               fill_color='YlGnBu')\n",
    "map_parking"
   ]
  },
  {
   "cell_type": "markdown",
   "metadata": {},
   "source": [
    "## 서비스업종 TOP 추출 "
   ]
  },
  {
   "cell_type": "code",
   "execution_count": null,
   "metadata": {
    "scrolled": true
   },
   "outputs": [],
   "source": [
    "df_total_service_sum = df_total.groupby([\"상권_구분_코드_명\", \"서비스_업종_코드_명\"]).sum()\n",
    "df_total_service_sum = df_total_service_sum.unstack(\"상권_구분_코드_명\")\n",
    "df_total_service_sum[[\"연령대_60_이상_매출_건수\"]].sort_values((\"연령대_60_이상_매출_건수\", '전통시장'), ascending=False)"
   ]
  },
  {
   "cell_type": "code",
   "execution_count": null,
   "metadata": {
    "scrolled": false
   },
   "outputs": [],
   "source": [
    "service_top = {}\n",
    "\n",
    "for sh in shoplist:\n",
    "    data = df_total_service_sum.sort_values((\"연령대_60_이상_매출_건수\", sh), ascending=False)[[\"연령대_60_이상_매출_건수\"]].index\n",
    "    \n",
    "    service_top[sh] = data\n",
    "    \n",
    "service_top = pd.DataFrame(service_top).head(30)\n",
    "service_top"
   ]
  },
  {
   "cell_type": "code",
   "execution_count": null,
   "metadata": {},
   "outputs": [],
   "source": [
    "# 서비스업종 TOP 리스트\n",
    "\n",
    "service_top_list = list(set(service_top.values.reshape(-1)))\n",
    "print(len(service_top_list))\n",
    "print(service_top_list)"
   ]
  },
  {
   "cell_type": "markdown",
   "metadata": {},
   "source": [
    "### 동별 TOP 서비스업종 수"
   ]
  },
  {
   "cell_type": "code",
   "execution_count": null,
   "metadata": {
    "scrolled": false
   },
   "outputs": [],
   "source": [
    "# service_top_list - 서비스업 변경 가능\n",
    "\n",
    "df_total_service_count = df_total.groupby([\"읍면동명\", \"서비스_업종_코드_명\"]).count()\n",
    "df_total_service_count = df_total_service_count.iloc[:, 1].unstack(\"서비스_업종_코드_명\")\n",
    "df_total_service_count = df_total_service_count[service_top_list]\n",
    "df_total_service_count = df_total_service_count.fillna(0)\n",
    "df_total_service_count[\"합계\"] = df_total_service_count.sum(axis=1)\n",
    "df_total_service_count = df_total_service_count.reset_index()\n",
    "df_total_service_count.sort_values(\"합계\", ascending=False).head(20)"
   ]
  },
  {
   "cell_type": "code",
   "execution_count": null,
   "metadata": {},
   "outputs": [],
   "source": [
    "map_parking = folium.Map(location=[37.5502, 126.982], zoom_start=10)\n",
    "map_parking.choropleth(geo_data = geo_str, \n",
    "               data=df_total_service_count,\n",
    "               columns=['읍면동명', '합계'],\n",
    "               key_on='properties.name',\n",
    "               fill_color='YlGnBu')\n",
    "map_parking"
   ]
  },
  {
   "cell_type": "markdown",
   "metadata": {},
   "source": [
    "### TOP 서비스업별 소유한 동의 수"
   ]
  },
  {
   "cell_type": "code",
   "execution_count": null,
   "metadata": {},
   "outputs": [],
   "source": [
    "df_total_service_count2 = df_total.groupby([\"읍면동명\", \"서비스_업종_코드_명\"]).count()\n",
    "df_total_service_count2 = df_total_service_count2.iloc[:, 1].unstack(\"읍면동명\")\n",
    "df_total_service_count2[\"합계\"] = df_total_service_count2.count(axis=1)\n",
    "df_total_service_count2 = df_total_service_count2.loc[service_top_list].sort_values(\"합계\", ascending=False)\n",
    "df_total_service_count2"
   ]
  },
  {
   "cell_type": "code",
   "execution_count": null,
   "metadata": {},
   "outputs": [],
   "source": [
    "plt.figure(figsize=(20,10))\n",
    "ax = plt.subplot(1, 1, 1)\n",
    "\n",
    "plt.bar(df_total_service_count2.index, df_total_service_count2[\"합계\"])\n",
    "\n",
    "for label in ax.xaxis.get_ticklabels() :\n",
    "    label.set_rotation(45)"
   ]
  },
  {
   "cell_type": "markdown",
   "metadata": {},
   "source": [
    "- 음식점 선호도\n",
    "\n",
    "한식 > 중식 > 양식 = 일식"
   ]
  },
  {
   "cell_type": "code",
   "execution_count": null,
   "metadata": {
    "scrolled": true
   },
   "outputs": [],
   "source": [
    "df_food = df_total_service_sum.reset_index()[df_total_service_sum.reset_index()['서비스_업종_코드_명'].str.contains(\"음식점\")][[\"서비스_업종_코드_명\", \"연령대_60_이상_매출_건수\"]].set_index(\"서비스_업종_코드_명\")\n",
    "df_food[\"합계\"] = df_food.sum(axis=1)\n",
    "df_food.sort_values(\"합계\", ascending=False)"
   ]
  },
  {
   "cell_type": "markdown",
   "metadata": {},
   "source": [
    "## column 단축을 위한 분류"
   ]
  },
  {
   "cell_type": "code",
   "execution_count": null,
   "metadata": {},
   "outputs": [],
   "source": [
    "# 서비스업 분류\n",
    "\n",
    "service_dict = {\n",
    "    '의료' : ['한의원', '의약·의료용품', '치과의원', '일반의원', '피부관리실', '의료기기', '의약품', '안경'],\n",
    "    '의류' : ['의류점', '패션용품', '신발', '일반의류', '유아의류', '한복점'],\n",
    "    '식품' : ['한식음식점', '중식음식점', '일식음식점', '양식음식점', '분식전문점', '패스트푸드점', '치킨전문점', '커피·음료',\n",
    "            '호프·간이주점', '커피-음료', '호프-간이주점', '식료품', '제과점', '반찬가게', '청과상',\n",
    "            '수산물판매', '육류판매', '미곡판매', '주류도매', '슈퍼마켓', '편의점', '건강보조식품'],\n",
    "    '기타' : ['화장품', '섬유제품', '주방·가정용품',\n",
    "            '서적·문구', '가구·가전','통신판매업', '화초·애완', '핸드폰', '컴퓨터·주변기기',\n",
    "           '인테리어', '애완동물', '화초', '시계및귀금속', '철물점', '문구', '조명용품',\n",
    "           '전자상거래업', '가방', '가구', '서적', '운동/경기용품', '가전제품', '컴퓨터및주변장치판매', '완구',\n",
    "           '자전거 및 기타운송장비', '일반교습학원', '예체능학원', '외국어학원', '스포츠 강습',\n",
    "            '예술학원', '컴퓨터학원', '노래방', '당구장', '스포츠클럽', '오락·운동', 'PC방', '골프연습장', '볼링장', '네일숍',\n",
    "            '숙박업', '여관', '고시원', '자동차수리·세차', '두발미용업', '세탁소(가정)', '미용실', '세탁소',\n",
    "            '자동차수리', '자동차미용', '동물병원', '가전제품수리', '부동산중개업', '세무사사무소',\n",
    "            '기타법무서비스', '변호사사무소', '회계사사무소', '법무사사무소', '변리사사무소']\n",
    "}"
   ]
  },
  {
   "cell_type": "code",
   "execution_count": null,
   "metadata": {},
   "outputs": [],
   "source": [
    "# 서비스업 분류 column 추가\n",
    "\n",
    "for key in service_dict.keys():\n",
    "    df_total.loc[df_total[\"서비스_업종_코드_명\"].isin(service_dict[key]), '서비스_업종_분류'] = key"
   ]
  },
  {
   "cell_type": "code",
   "execution_count": null,
   "metadata": {},
   "outputs": [],
   "source": [
    "df_total.loc[df_total[\"서비스_업종_코드_명\"].isin(service_dict['식품'])]"
   ]
  },
  {
   "cell_type": "code",
   "execution_count": null,
   "metadata": {},
   "outputs": [],
   "source": [
    "df_total.groupby(\"서비스_업종_분류\").mean()['연령대_60_이상_매출_비율']"
   ]
  },
  {
   "cell_type": "code",
   "execution_count": null,
   "metadata": {},
   "outputs": [],
   "source": [
    "df_district = df_total.groupby(['기준_년_코드', '상권_구분_코드_명']).mean()['연령대_60_이상_매출_비율']\n",
    "df_district = df_district.reset_index()\n",
    "df_district"
   ]
  },
  {
   "cell_type": "code",
   "execution_count": null,
   "metadata": {},
   "outputs": [],
   "source": [
    "px.line(df_district, x=\"기준_년_코드\", y=\"연령대_60_이상_매출_비율\", color='상권_구분_코드_명')"
   ]
  },
  {
   "cell_type": "code",
   "execution_count": null,
   "metadata": {},
   "outputs": [],
   "source": [
    "df_classifi = df_total.groupby(['기준_년_코드', '서비스_업종_분류']).mean()['연령대_60_이상_매출_비율']\n",
    "df_classifi = df_classifi.reset_index()\n",
    "df_classifi"
   ]
  },
  {
   "cell_type": "code",
   "execution_count": null,
   "metadata": {},
   "outputs": [],
   "source": [
    "px.line(df_classifi, x=\"기준_년_코드\", y=\"연령대_60_이상_매출_비율\", color='서비스_업종_분류')"
   ]
  },
  {
   "cell_type": "code",
   "execution_count": null,
   "metadata": {},
   "outputs": [],
   "source": [
    "# 동별 서비스업 분류 수\n",
    "\n",
    "df_total_service_count3 = df_total.groupby([\"읍면동명\", \"서비스_업종_분류\"]).count()\n",
    "df_total_service_count3 = df_total_service_count3.iloc[:, 1].unstack(\"서비스_업종_분류\")\n",
    "df_total_service_count3 = df_total_service_count3.fillna(0)\n",
    "df_total_service_count3[\"합계\"] = df_total_service_count3.sum(axis=1)\n",
    "df_total_service_count3 = df_total_service_count3.reset_index()\n",
    "df_total_service_count3"
   ]
  },
  {
   "cell_type": "code",
   "execution_count": null,
   "metadata": {},
   "outputs": [],
   "source": [
    "df_service_sum = df_total.groupby(\"서비스_업종_분류\").sum()[[\"연령대_60_이상_매출_건수\"]].sort_values(\"연령대_60_이상_매출_건수\", ascending=False)\n",
    "df_service_sum"
   ]
  },
  {
   "cell_type": "code",
   "execution_count": null,
   "metadata": {},
   "outputs": [],
   "source": [
    "df_service_sum_detail = df_total.groupby([\"서비스_업종_코드_명\", \"서비스_업종_분류\"]).agg({'연령대_60_이상_매출_건수':'sum', '연령대_60_이상_매출_비율':'mean'}).reset_index()\n",
    "df_service_sum_detail = df_service_sum_detail[df_service_sum_detail['서비스_업종_분류']=='기타'].sort_values(\"연령대_60_이상_매출_건수\", ascending=False)\n",
    "df_service_sum_detail.head(15)"
   ]
  },
  {
   "cell_type": "code",
   "execution_count": null,
   "metadata": {},
   "outputs": [],
   "source": [
    "px.pie(df_service_sum_detail[df_service_sum_detail['서비스_업종_분류']=='기타'].head(15), values='연령대_60_이상_매출_건수', names='서비스_업종_코드_명')"
   ]
  },
  {
   "cell_type": "markdown",
   "metadata": {},
   "source": [
    "## 동별 서비스업 분류 수"
   ]
  },
  {
   "cell_type": "markdown",
   "metadata": {},
   "source": [
    "### 식품"
   ]
  },
  {
   "cell_type": "code",
   "execution_count": null,
   "metadata": {},
   "outputs": [],
   "source": [
    "df_service_food_count = df_total[df_total[\"서비스_업종_분류\"]==\"식품\"].groupby([\"시군구명\", \"읍면동명\"]).count()\n",
    "df_service_food_count = pd.DataFrame(df_service_food_count.sort_values(\"기준_년_코드\", ascending=False)[\"기준_년_코드\"]).reset_index(level=['읍면동명'])\n",
    "df_service_food_count.rename(columns={'기준_년_코드':'food_count'}, inplace=True)\n",
    "df_service_food_count"
   ]
  },
  {
   "cell_type": "code",
   "execution_count": null,
   "metadata": {
    "scrolled": false
   },
   "outputs": [],
   "source": [
    "map_parking = folium.Map(location=[37.5502, 126.982], zoom_start=10)\n",
    "map_parking.choropleth(geo_data = geo_str, \n",
    "               data=df_service_food_count,\n",
    "               columns=['읍면동명', 'food_count'],\n",
    "               key_on='properties.name',\n",
    "               fill_color='YlGnBu')\n",
    "map_parking"
   ]
  },
  {
   "cell_type": "markdown",
   "metadata": {},
   "source": [
    "### 의료"
   ]
  },
  {
   "cell_type": "code",
   "execution_count": null,
   "metadata": {},
   "outputs": [],
   "source": [
    "df_service_health_count = df_total[df_total[\"서비스_업종_분류\"]==\"의료\"].groupby([\"시군구명\", \"읍면동명\"]).count()\n",
    "df_service_health_count = pd.DataFrame(df_service_health_count.sort_values(\"기준_년_코드\", ascending=False)[\"기준_년_코드\"]).reset_index(level=['읍면동명'])\n",
    "df_service_health_count.rename(columns={'기준_년_코드':'health_count'}, inplace=True)\n",
    "df_service_health_count"
   ]
  },
  {
   "cell_type": "code",
   "execution_count": null,
   "metadata": {},
   "outputs": [],
   "source": [
    "map_parking = folium.Map(location=[37.5502, 126.982], zoom_start=10)\n",
    "map_parking.choropleth(geo_data = geo_str, \n",
    "               data=df_service_health_count,\n",
    "               columns=['읍면동명', 'health_count'],\n",
    "               key_on='properties.name',\n",
    "               fill_color='YlGnBu')\n",
    "map_parking"
   ]
  },
  {
   "cell_type": "markdown",
   "metadata": {},
   "source": [
    "### 의류"
   ]
  },
  {
   "cell_type": "code",
   "execution_count": null,
   "metadata": {},
   "outputs": [],
   "source": [
    "df_service_clothes_count = df_total[df_total[\"서비스_업종_분류\"]==\"의료\"].groupby([\"시군구명\", \"읍면동명\"]).count()\n",
    "df_service_clothes_count = pd.DataFrame(df_service_clothes_count.sort_values(\"기준_년_코드\", ascending=False)[\"기준_년_코드\"]).reset_index(level=['읍면동명'])\n",
    "df_service_clothes_count.rename(columns={'기준_년_코드':'clothes_count'}, inplace=True)\n",
    "df_service_clothes_count"
   ]
  },
  {
   "cell_type": "code",
   "execution_count": null,
   "metadata": {},
   "outputs": [],
   "source": [
    "map_parking = folium.Map(location=[37.5502, 126.982], zoom_start=10)\n",
    "map_parking.choropleth(geo_data = geo_str, \n",
    "               data=df_service_clothes_count,\n",
    "               columns=['읍면동명', 'clothes_count'],\n",
    "               key_on='properties.name',\n",
    "               fill_color='YlGnBu')\n",
    "map_parking"
   ]
  },
  {
   "cell_type": "markdown",
   "metadata": {},
   "source": [
    "### 기타"
   ]
  },
  {
   "cell_type": "code",
   "execution_count": null,
   "metadata": {},
   "outputs": [],
   "source": [
    "df_service_etc_count = df_total[df_total[\"서비스_업종_분류\"]==\"기타\"].groupby([\"시군구명\", \"읍면동명\"]).count()\n",
    "df_service_etc_count = pd.DataFrame(df_service_etc_count.sort_values(\"기준_년_코드\", ascending=False)[\"기준_년_코드\"]).reset_index(level=['읍면동명'])\n",
    "df_service_etc_count.rename(columns={'기준_년_코드':'etc_count'}, inplace=True)\n",
    "df_service_etc_count"
   ]
  },
  {
   "cell_type": "code",
   "execution_count": null,
   "metadata": {},
   "outputs": [],
   "source": [
    "map_parking = folium.Map(location=[37.5502, 126.982], zoom_start=10)\n",
    "map_parking.choropleth(geo_data = geo_str, \n",
    "               data=df_service_etc_count,\n",
    "               columns=['읍면동명', 'etc_count'],\n",
    "               key_on='properties.name',\n",
    "               fill_color='YlGnBu')\n",
    "map_parking"
   ]
  },
  {
   "cell_type": "code",
   "execution_count": null,
   "metadata": {},
   "outputs": [],
   "source": []
  },
  {
   "cell_type": "markdown",
   "metadata": {},
   "source": [
    "## 동별 거래량 비교"
   ]
  },
  {
   "cell_type": "code",
   "execution_count": null,
   "metadata": {},
   "outputs": [],
   "source": [
    "df_trade = df_total.groupby([\"시군구명\", \"읍면동명\"]).agg({'연령대_60_이상_매출_건수':'sum', '연령대_60_이상_매출_비율':'mean'}).reset_index()\n",
    "df_trade = df_trade.sort_values(by='연령대_60_이상_매출_건수', ascending=False)\n",
    "df_trade"
   ]
  },
  {
   "cell_type": "code",
   "execution_count": null,
   "metadata": {},
   "outputs": [],
   "source": [
    "map_parking = folium.Map(location=[37.5502, 126.982], zoom_start=10)\n",
    "map_parking.choropleth(geo_data = geo_str, \n",
    "               data=df_trade,\n",
    "               columns=['읍면동명', '연령대_60_이상_매출_건수'],\n",
    "               key_on='properties.name',\n",
    "               fill_color='YlGnBu')\n",
    "map_parking"
   ]
  },
  {
   "cell_type": "code",
   "execution_count": null,
   "metadata": {},
   "outputs": [],
   "source": [
    "df_trade2 = df_total.groupby([\"시군구명\", \"읍면동명\"]).agg({'연령대_60_이상_매출_건수':'sum', '연령대_60_이상_매출_비율':'mean'}).reset_index()\n",
    "df_trade2 = df_trade2.sort_values(by='연령대_60_이상_매출_비율', ascending=False)\n",
    "df_trade2"
   ]
  },
  {
   "cell_type": "code",
   "execution_count": null,
   "metadata": {},
   "outputs": [],
   "source": [
    "map_parking = folium.Map(location=[37.5502, 126.982], zoom_start=10)\n",
    "map_parking.choropleth(geo_data = geo_str, \n",
    "               data=df_trade2,\n",
    "               columns=['읍면동명', '연령대_60_이상_매출_비율'],\n",
    "               key_on='properties.name',\n",
    "               fill_color='YlGnBu')\n",
    "map_parking"
   ]
  }
 ],
 "metadata": {
  "kernelspec": {
   "display_name": "Python 3",
   "language": "python",
   "name": "python3"
  },
  "language_info": {
   "codemirror_mode": {
    "name": "ipython",
    "version": 3
   },
   "file_extension": ".py",
   "mimetype": "text/x-python",
   "name": "python",
   "nbconvert_exporter": "python",
   "pygments_lexer": "ipython3",
   "version": "3.7.6"
  }
 },
 "nbformat": 4,
 "nbformat_minor": 4
}
