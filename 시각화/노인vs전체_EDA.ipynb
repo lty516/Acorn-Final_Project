{
 "cells": [
  {
   "cell_type": "code",
   "execution_count": null,
   "metadata": {},
   "outputs": [],
   "source": [
    "import folium\n",
    "import json\n",
    "\n",
    "import pandas as pd\n",
    "import numpy as np"
   ]
  },
  {
   "cell_type": "markdown",
   "metadata": {},
   "source": [
    "# 지도 데이터\n",
    "- 2019년도 데이터 : 서울만 뽑기"
   ]
  },
  {
   "cell_type": "code",
   "execution_count": null,
   "metadata": {
    "scrolled": true
   },
   "outputs": [],
   "source": [
    "geo_path2 = 'HangJeongDong_ver20191231.geojson'\n",
    "geo_str2 = json.load(open(geo_path2, encoding='utf-8'))\n",
    "geo_str2"
   ]
  },
  {
   "cell_type": "code",
   "execution_count": null,
   "metadata": {},
   "outputs": [],
   "source": [
    "features_list = []\n",
    "\n",
    "for dong in geo_str2[\"features\"]:\n",
    "    if dong[\"properties\"][\"adm_nm\"].split()[0] == \"서울특별시\":\n",
    "        dong[\"properties\"][\"adm_nm\"] = dong[\"properties\"][\"adm_nm\"].replace(\"·\", \".\")\n",
    "        print(dong[\"properties\"][\"adm_nm\"])\n",
    "        features_list.append(dong)"
   ]
  },
  {
   "cell_type": "code",
   "execution_count": null,
   "metadata": {},
   "outputs": [],
   "source": [
    "geo_str2[\"features\"] = features_list"
   ]
  },
  {
   "cell_type": "code",
   "execution_count": null,
   "metadata": {},
   "outputs": [],
   "source": [
    "geo_str2"
   ]
  },
  {
   "cell_type": "code",
   "execution_count": null,
   "metadata": {},
   "outputs": [],
   "source": []
  },
  {
   "cell_type": "markdown",
   "metadata": {},
   "source": [
    "# 분석용 데이터"
   ]
  },
  {
   "cell_type": "code",
   "execution_count": null,
   "metadata": {},
   "outputs": [],
   "source": [
    "senior_house_data = pd.read_csv(\"1stClusteringData_1(cp949).csv\", encoding=\"cp949\")\n",
    "senior_house_data = senior_house_data.fillna(0)\n",
    "senior_house_data[\"행정동\"] = senior_house_data[\"행정동\"].str.replace(\"·\", \".\")\n",
    "senior_house_data"
   ]
  },
  {
   "cell_type": "code",
   "execution_count": null,
   "metadata": {},
   "outputs": [],
   "source": [
    "senior_house_data[\"매매\"] = senior_house_data[[\"연립다세대_매매\", \"아파트_매매\", \"단독다가구_매매\"]].mean(axis =1)\n",
    "senior_house_data[\"전월세\"] = senior_house_data[[\"연립다세대_전월세\", \"아파트_전월세\", \"단독다가구_전월세\"]].mean(axis =1)\n",
    "senior_house_data.head()"
   ]
  },
  {
   "cell_type": "code",
   "execution_count": null,
   "metadata": {},
   "outputs": [],
   "source": [
    "senior_house_data = senior_house_data.drop([\"연립다세대_매매\", \"연립다세대_전월세\", \"아파트_매매\", \n",
    "                  \"아파트_전월세\", \"단독다가구_매매\", \"단독다가구_전월세\"], axis = 1)\n",
    "# data = data.set_index([\"구\", \"행정동\"])\n",
    "senior_house_data.head()"
   ]
  },
  {
   "cell_type": "code",
   "execution_count": null,
   "metadata": {
    "scrolled": true
   },
   "outputs": [],
   "source": [
    "senior_house_data[\"구동주소\"] = \"서울특별시 \" + senior_house_data[\"구\"] + \" \" + senior_house_data[\"행정동\"]\n",
    "senior_house_data"
   ]
  },
  {
   "cell_type": "markdown",
   "metadata": {},
   "source": [
    "### 독거노인 분포"
   ]
  },
  {
   "cell_type": "code",
   "execution_count": null,
   "metadata": {},
   "outputs": [],
   "source": [
    "map_senior_pop_heat = folium.Map(location=[37.5502, 126.982], zoom_start=10)\n",
    "map_senior_pop_heat.choropleth(geo_data = geo_str2, \n",
    "               data=senior_house_data,\n",
    "               columns=['구동주소',\"독거노인\"],\n",
    "               key_on='properties.adm_nm',\n",
    "               fill_color='PuRd')\n",
    "map_senior_pop_heat"
   ]
  },
  {
   "cell_type": "markdown",
   "metadata": {},
   "source": [
    "### 매매 분포"
   ]
  },
  {
   "cell_type": "code",
   "execution_count": null,
   "metadata": {
    "scrolled": false
   },
   "outputs": [],
   "source": [
    "map_sales_heat = folium.Map(location=[37.5502, 126.982], zoom_start=10)\n",
    "map_sales_heat.choropleth(geo_data = geo_str2, \n",
    "               data=senior_house_data,\n",
    "               columns=['구동주소',\"매매\"],\n",
    "               key_on='properties.adm_nm',\n",
    "               fill_color='PuRd')\n",
    "map_sales_heat"
   ]
  },
  {
   "cell_type": "markdown",
   "metadata": {},
   "source": [
    "### 전월세 분포"
   ]
  },
  {
   "cell_type": "code",
   "execution_count": null,
   "metadata": {
    "scrolled": false
   },
   "outputs": [],
   "source": [
    "map_rent_heat = folium.Map(location=[37.5502, 126.982], zoom_start=10)\n",
    "map_rent_heat.choropleth(geo_data = geo_str2, \n",
    "               data=senior_house_data,\n",
    "               columns=['구동주소',\"전월세\"],\n",
    "               key_on='properties.adm_nm',\n",
    "               fill_color='PuRd')\n",
    "map_rent_heat"
   ]
  },
  {
   "cell_type": "markdown",
   "metadata": {},
   "source": [
    "### 총 인구 분포"
   ]
  },
  {
   "cell_type": "code",
   "execution_count": null,
   "metadata": {},
   "outputs": [],
   "source": [
    "population_data = pd.read_csv('전체인구_2019.txt', sep = \"\\t\", engine='python', encoding = \"utf-8\", thousands = ',', header=[0,1,2])\n",
    "population_data = population_data.iloc[:, [0,1,2,7]]\n",
    "population_data.columns = ['기간', '자치구', '행정동', '계']\n",
    "population_data = population_data.drop(population_data[(population_data['행정동']=='소계') | (population_data['행정동']=='합계')].index)\n",
    "population_data = population_data.reset_index(drop=True)\n",
    "population_data"
   ]
  },
  {
   "cell_type": "code",
   "execution_count": null,
   "metadata": {},
   "outputs": [],
   "source": [
    "population_data['행정동'] = population_data['행정동'].str.replace(\"·\", \".\")"
   ]
  },
  {
   "cell_type": "code",
   "execution_count": null,
   "metadata": {},
   "outputs": [],
   "source": [
    "population_data[\"구동주소\"] = \"서울특별시 \" + population_data[\"자치구\"] + \" \" + population_data[\"행정동\"]"
   ]
  },
  {
   "cell_type": "code",
   "execution_count": null,
   "metadata": {},
   "outputs": [],
   "source": [
    "population_map = folium.Map(location=[37.5502, 126.982], zoom_start=10)\n",
    "population_map.choropleth(geo_data = geo_str2, \n",
    "               data=population_data,\n",
    "               columns=['구동주소', '계'],\n",
    "               key_on='properties.adm_nm',\n",
    "               fill_color='PuRd')\n",
    "population_map"
   ]
  },
  {
   "cell_type": "markdown",
   "metadata": {},
   "source": [
    "### 1차 클러스터링 분포"
   ]
  },
  {
   "cell_type": "code",
   "execution_count": null,
   "metadata": {},
   "outputs": [],
   "source": [
    "cluster_grade = pd.read_csv('clustering_basic(cp949).csv', encoding = \"CP949\")\n",
    "cluster_grade[['구', '행정동', 'gmm_cluster_minmax']]"
   ]
  },
  {
   "cell_type": "code",
   "execution_count": null,
   "metadata": {},
   "outputs": [],
   "source": [
    "cluster_grade['행정동'] = cluster_grade['행정동'].str.replace(\"·\", \".\")\n",
    "cluster_grade[\"구동주소\"] = \"서울특별시 \" + cluster_grade[\"구\"] + \" \" + cluster_grade[\"행정동\"]"
   ]
  },
  {
   "cell_type": "code",
   "execution_count": null,
   "metadata": {},
   "outputs": [],
   "source": [
    "grade_map = folium.Map(location=[37.5502, 126.982], zoom_start=10)\n",
    "grade_map.choropleth(geo_data = geo_str2, \n",
    "               data=cluster_grade,\n",
    "               columns=['구동주소', 'gmm_cluster_minmax'],\n",
    "               key_on='properties.adm_nm',\n",
    "               fill_color='PuRd')\n",
    "grade_map"
   ]
  },
  {
   "cell_type": "markdown",
   "metadata": {},
   "source": [
    "### 총 노인인구 분포"
   ]
  },
  {
   "cell_type": "code",
   "execution_count": null,
   "metadata": {},
   "outputs": [],
   "source": [
    "df_pop = pd.read_csv('olds_population(cp949).csv', encoding = \"CP949\")\n",
    "df_pop"
   ]
  },
  {
   "cell_type": "code",
   "execution_count": null,
   "metadata": {},
   "outputs": [],
   "source": [
    "df_pop_2019 = df_pop[df_pop['period']=='2019.4/4'].reset_index(drop=True)\n",
    "df_pop_2019.drop(0, inplace=True)\n",
    "df_pop_2019"
   ]
  },
  {
   "cell_type": "code",
   "execution_count": null,
   "metadata": {},
   "outputs": [],
   "source": [
    "df_pop_2019['행정동'] = df_pop_2019['dong'].str.replace(\"·\", \".\")\n",
    "df_pop_2019[\"구동주소\"] = \"서울특별시 \" + df_pop_2019[\"gu\"] + \" \" + df_pop_2019[\"행정동\"]"
   ]
  },
  {
   "cell_type": "code",
   "execution_count": null,
   "metadata": {},
   "outputs": [],
   "source": [
    "grade_map = folium.Map(location=[37.5502, 126.982], zoom_start=10)\n",
    "grade_map.choropleth(geo_data = geo_str2, \n",
    "               data=df_pop_2019,\n",
    "               columns=['구동주소', 'olds'],\n",
    "               key_on='properties.adm_nm',\n",
    "               fill_color='PuRd')\n",
    "grade_map"
   ]
  },
  {
   "cell_type": "code",
   "execution_count": null,
   "metadata": {},
   "outputs": [],
   "source": [
    "df_pop_2019['행정동'].unique()"
   ]
  },
  {
   "cell_type": "code",
   "execution_count": null,
   "metadata": {},
   "outputs": [],
   "source": []
  },
  {
   "cell_type": "code",
   "execution_count": null,
   "metadata": {},
   "outputs": [],
   "source": []
  }
 ],
 "metadata": {
  "kernelspec": {
   "display_name": "Python 3",
   "language": "python",
   "name": "python3"
  },
  "language_info": {
   "codemirror_mode": {
    "name": "ipython",
    "version": 3
   },
   "file_extension": ".py",
   "mimetype": "text/x-python",
   "name": "python",
   "nbconvert_exporter": "python",
   "pygments_lexer": "ipython3",
   "version": "3.7.6"
  }
 },
 "nbformat": 4,
 "nbformat_minor": 4
}
